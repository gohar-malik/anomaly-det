{
 "cells": [
  {
   "cell_type": "code",
   "execution_count": 1,
   "metadata": {},
   "outputs": [],
   "source": [
    "from glob import glob\n",
    "\n",
    "import os\n",
    "import pandas as pd\n",
    "import numpy as np\n",
    "import json\n",
    "from pathlib import Path\n",
    "import torch\n",
    "import pickle"
   ]
  },
  {
   "cell_type": "code",
   "execution_count": 2,
   "metadata": {},
   "outputs": [],
   "source": [
    "order = [\n",
    "    \"DeepFool\",\"FGSM\",\"AutoAttack\"\n",
    "]"
   ]
  },
  {
   "cell_type": "code",
   "execution_count": 3,
   "metadata": {},
   "outputs": [],
   "source": [
    "dataname = 'CIFAR10'\n",
    "modelname = 'resnet18'"
   ]
  },
  {
   "cell_type": "markdown",
   "metadata": {},
   "source": [
    "# Adversarial Attack"
   ]
  },
  {
   "cell_type": "code",
   "execution_count": 4,
   "metadata": {},
   "outputs": [],
   "source": [
    "del_keys = ['clean acc','noise acc','clean dwt acc']\n",
    "\n",
    "attack_results = glob(f'./results/{dataname}/saved_adv_samples/{modelname}/*/results.json')\n",
    "adv_df = pd.DataFrame()\n",
    "\n",
    "for p in attack_results:\n",
    "    r = json.load(open(p,'r'))\n",
    "    \n",
    "    for k in del_keys:\n",
    "        del r[k]\n",
    "    \n",
    "    r = pd.Series(\n",
    "        r,\n",
    "        name = os.path.basename(os.path.dirname(p))\n",
    "    )\n",
    "    adv_df = pd.concat([adv_df, r], axis=1)\n",
    "    \n",
    "adv_df = ((adv_df.T.loc[order]) * 100).round(2)\n",
    "\n",
    "adv_df.columns = ['Adv Acc(%)','Adv Acc(%) DWT']"
   ]
  },
  {
   "cell_type": "markdown",
   "metadata": {},
   "source": [
    "## Successed Images"
   ]
  },
  {
   "cell_type": "code",
   "execution_count": 5,
   "metadata": {},
   "outputs": [],
   "source": [
    "succ_list = glob(f'./results/{dataname}/saved_adv_samples/{modelname}/*/successed_images.pkl')"
   ]
  },
  {
   "cell_type": "code",
   "execution_count": 6,
   "metadata": {},
   "outputs": [],
   "source": [
    "for p in succ_list:\n",
    "    with open(p,'rb') as f:\n",
    "        nb_imgs = pickle.load(f)['clean'].shape[0]\n",
    "        adv_method = os.path.basename(os.path.dirname(p))\n",
    "        adv_df.loc[adv_method,'# Success Images'] = nb_imgs\n",
    "\n",
    "adv_df['# Success Images'] = adv_df['# Success Images'].astype(int)"
   ]
  },
  {
   "cell_type": "code",
   "execution_count": 8,
   "metadata": {},
   "outputs": [
    {
     "name": "stdout",
     "output_type": "stream",
     "text": [
      "|            |   Adv Acc(%) |   Adv Acc(%) DWT |   # Success Images |\n",
      "|:-----------|-------------:|-----------------:|-------------------:|\n",
      "| DeepFool   |         2.33 |            86.74 |               6871 |\n",
      "| FGSM       |        10.74 |            14.59 |               6286 |\n",
      "| AutoAttack |         0    |            55.04 |               7132 |\n"
     ]
    }
   ],
   "source": [
    "print(adv_df.to_markdown())"
   ]
  },
  {
   "cell_type": "markdown",
   "metadata": {},
   "source": [
    "# Detection"
   ]
  },
  {
   "cell_type": "markdown",
   "metadata": {},
   "source": [
    "## Known Attack"
   ]
  },
  {
   "cell_type": "code",
   "execution_count": 9,
   "metadata": {},
   "outputs": [],
   "source": [
    "del_keys = ['TNR','AUIN','AUOUT']\n",
    "\n",
    "known_results = glob(f'./results/{dataname}/known_attack_results/{modelname}/*/result.json')\n",
    "known_df = pd.DataFrame()\n",
    "\n",
    "for p in known_results:\n",
    "    r = json.load(open(p,'r'))['test']\n",
    "\n",
    "    for k in del_keys:\n",
    "        del r[k]\n",
    "\n",
    "    r = pd.Series(\n",
    "        r,\n",
    "        name = os.path.basename(os.path.dirname(p))\n",
    "    )\n",
    "    \n",
    "    known_df = pd.concat([known_df, r], axis=1)\n",
    "\n",
    "known_df = ((known_df.T.loc[order]) * 100).round(2)\n",
    "\n",
    "known_df.columns = ['AUROC(%)','Detection Acc(%)']"
   ]
  },
  {
   "cell_type": "markdown",
   "metadata": {},
   "source": [
    "## Train and Test images"
   ]
  },
  {
   "cell_type": "code",
   "execution_count": 10,
   "metadata": {},
   "outputs": [],
   "source": [
    "train_det = glob(f'./results/{dataname}/known_attack_results/{modelname}/*/train.pt')\n",
    "dev_det = glob(f'./results/{dataname}/known_attack_results/{modelname}/*/dev.pt')\n",
    "test_det = glob(f'./results/{dataname}/known_attack_results/{modelname}/*/test.pt')"
   ]
  },
  {
   "cell_type": "code",
   "execution_count": 11,
   "metadata": {},
   "outputs": [],
   "source": [
    "for train_p, dev_p, test_p in zip(train_det, dev_det, test_det):\n",
    "    nb_train = torch.load(train_p)['logits'].size(0)\n",
    "    nb_dev = torch.load(dev_p)['logits'].size(0)    \n",
    "    nb_test = torch.load(test_p)['logits'].size(0)\n",
    "    \n",
    "    adv_method = os.path.basename(os.path.dirname(train_p))\n",
    "    \n",
    "    known_df.loc[adv_method, '#(train, dev, test)'] = f\"({nb_train}, {nb_dev}, {nb_test})\""
   ]
  },
  {
   "cell_type": "code",
   "execution_count": 12,
   "metadata": {
    "scrolled": true
   },
   "outputs": [
    {
     "name": "stdout",
     "output_type": "stream",
     "text": [
      "|            |   AUROC(%) |   Detection Acc(%) | #(train, dev, test)   |\n",
      "|:-----------|-----------:|-------------------:|:----------------------|\n",
      "| DeepFool   |      87.76 |              82.54 | (4289, 713, 2148)     |\n",
      "| FGSM       |      99.99 |              99.54 | (5272, 878, 2639)     |\n",
      "| AutoAttack |      99.93 |              98.85 | (5598, 932, 2802)     |\n"
     ]
    }
   ],
   "source": [
    "print(known_df.to_markdown())"
   ]
  },
  {
   "cell_type": "markdown",
   "metadata": {},
   "source": [
    "## Transfer Attack"
   ]
  },
  {
   "cell_type": "code",
   "execution_count": 13,
   "metadata": {},
   "outputs": [
    {
     "name": "stdout",
     "output_type": "stream",
     "text": [
      "|            |   DeepFool |   FGSM |   AutoAttack |\n",
      "|:-----------|-----------:|-------:|-------------:|\n",
      "| DeepFool   |      87.76 |  63.8  |        57.34 |\n",
      "| FGSM       |      56.2  |  99.99 |        93.94 |\n",
      "| AutoAttack |      22.67 |  22.32 |        99.93 |\n"
     ]
    }
   ],
   "source": [
    "transfer_df = pd.read_csv(f'./results/{dataname}/transfer_attack_results/{modelname}/transfer_results.csv',index_col=0)\n",
    "print(transfer_df.loc[order, order].to_markdown())"
   ]
  },
  {
   "cell_type": "code",
   "execution_count": null,
   "metadata": {},
   "outputs": [],
   "source": []
  }
 ],
 "metadata": {
  "kernelspec": {
   "display_name": "Python 3",
   "language": "python",
   "name": "python3"
  },
  "language_info": {
   "codemirror_mode": {
    "name": "ipython",
    "version": 3
   },
   "file_extension": ".py",
   "mimetype": "text/x-python",
   "name": "python",
   "nbconvert_exporter": "python",
   "pygments_lexer": "ipython3",
   "version": "3.6.13"
  }
 },
 "nbformat": 4,
 "nbformat_minor": 4
}
